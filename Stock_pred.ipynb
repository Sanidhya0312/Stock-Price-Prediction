{
  "cells": [
    {
      "cell_type": "code",
      "execution_count": null,
      "id": "47df2930",
      "metadata": {
        "id": "47df2930"
      },
      "outputs": [],
      "source": [
        "import numpy as np\n",
        "import pandas as pd\n",
        "import matplotlib.pyplot as plt\n",
        "import pandas_datareader as data"
      ]
    },
    {
      "cell_type": "code",
      "execution_count": null,
      "id": "42857281",
      "metadata": {
        "id": "42857281",
        "outputId": "726b1f59-2163-4997-af07-2272a7ace8ad",
        "colab": {
          "base_uri": "https://localhost:8080/",
          "height": 520
        }
      },
      "outputs": [
        {
          "output_type": "stream",
          "name": "stdout",
          "text": [
            "Looking in indexes: https://pypi.org/simple, https://us-python.pkg.dev/colab-wheels/public/simple/\n",
            "Collecting yfinance\n",
            "  Downloading yfinance-0.1.87-py2.py3-none-any.whl (29 kB)\n",
            "Requirement already satisfied: numpy>=1.15 in /usr/local/lib/python3.8/dist-packages (from yfinance) (1.21.6)\n",
            "Requirement already satisfied: appdirs>=1.4.4 in /usr/local/lib/python3.8/dist-packages (from yfinance) (1.4.4)\n",
            "Requirement already satisfied: pandas>=0.24.0 in /usr/local/lib/python3.8/dist-packages (from yfinance) (1.3.5)\n",
            "Requirement already satisfied: lxml>=4.5.1 in /usr/local/lib/python3.8/dist-packages (from yfinance) (4.9.1)\n",
            "Requirement already satisfied: multitasking>=0.0.7 in /usr/local/lib/python3.8/dist-packages (from yfinance) (0.0.11)\n",
            "Collecting requests>=2.26\n",
            "  Downloading requests-2.28.1-py3-none-any.whl (62 kB)\n",
            "\u001b[K     |████████████████████████████████| 62 kB 1.3 MB/s \n",
            "\u001b[?25hRequirement already satisfied: pytz>=2017.3 in /usr/local/lib/python3.8/dist-packages (from pandas>=0.24.0->yfinance) (2022.6)\n",
            "Requirement already satisfied: python-dateutil>=2.7.3 in /usr/local/lib/python3.8/dist-packages (from pandas>=0.24.0->yfinance) (2.8.2)\n",
            "Requirement already satisfied: six>=1.5 in /usr/local/lib/python3.8/dist-packages (from python-dateutil>=2.7.3->pandas>=0.24.0->yfinance) (1.15.0)\n",
            "Requirement already satisfied: certifi>=2017.4.17 in /usr/local/lib/python3.8/dist-packages (from requests>=2.26->yfinance) (2022.9.24)\n",
            "Requirement already satisfied: charset-normalizer<3,>=2 in /usr/local/lib/python3.8/dist-packages (from requests>=2.26->yfinance) (2.1.1)\n",
            "Requirement already satisfied: idna<4,>=2.5 in /usr/local/lib/python3.8/dist-packages (from requests>=2.26->yfinance) (2.10)\n",
            "Requirement already satisfied: urllib3<1.27,>=1.21.1 in /usr/local/lib/python3.8/dist-packages (from requests>=2.26->yfinance) (1.24.3)\n",
            "Installing collected packages: requests, yfinance\n",
            "  Attempting uninstall: requests\n",
            "    Found existing installation: requests 2.23.0\n",
            "    Uninstalling requests-2.23.0:\n",
            "      Successfully uninstalled requests-2.23.0\n",
            "Successfully installed requests-2.28.1 yfinance-0.1.87\n"
          ]
        },
        {
          "output_type": "display_data",
          "data": {
            "application/vnd.colab-display-data+json": {
              "pip_warning": {
                "packages": [
                  "requests"
                ]
              }
            }
          },
          "metadata": {}
        }
      ],
      "source": [
        "pip install yfinance"
      ]
    },
    {
      "cell_type": "code",
      "execution_count": null,
      "id": "94ad7e45",
      "metadata": {
        "id": "94ad7e45",
        "colab": {
          "base_uri": "https://localhost:8080/",
          "height": 305
        },
        "outputId": "0a0363da-98fe-4347-dd67-b916490d0cc8"
      },
      "outputs": [
        {
          "output_type": "error",
          "ename": "ModuleNotFoundError",
          "evalue": "ignored",
          "traceback": [
            "\u001b[0;31m---------------------------------------------------------------------------\u001b[0m",
            "\u001b[0;31mModuleNotFoundError\u001b[0m                       Traceback (most recent call last)",
            "\u001b[0;32m<ipython-input-2-7b70635dcb62>\u001b[0m in \u001b[0;36m<module>\u001b[0;34m\u001b[0m\n\u001b[0;32m----> 1\u001b[0;31m \u001b[0;32mimport\u001b[0m \u001b[0myfinance\u001b[0m \u001b[0;32mas\u001b[0m \u001b[0myf\u001b[0m\u001b[0;34m\u001b[0m\u001b[0;34m\u001b[0m\u001b[0m\n\u001b[0m",
            "\u001b[0;31mModuleNotFoundError\u001b[0m: No module named 'yfinance'",
            "",
            "\u001b[0;31m---------------------------------------------------------------------------\u001b[0;32m\nNOTE: If your import is failing due to a missing package, you can\nmanually install dependencies using either !pip or !apt.\n\nTo view examples of installing some common dependencies, click the\n\"Open Examples\" button below.\n\u001b[0;31m---------------------------------------------------------------------------\u001b[0m\n"
          ],
          "errorDetails": {
            "actions": [
              {
                "action": "open_url",
                "actionText": "Open Examples",
                "url": "/notebooks/snippets/importing_libraries.ipynb"
              }
            ]
          }
        }
      ],
      "source": [
        "import yfinance as yf"
      ]
    },
    {
      "cell_type": "code",
      "execution_count": null,
      "id": "574dfa6d",
      "metadata": {
        "id": "574dfa6d"
      },
      "outputs": [],
      "source": [
        "stock_symbol = 'GAIL.NS'"
      ]
    },
    {
      "cell_type": "code",
      "execution_count": null,
      "id": "57880977",
      "metadata": {
        "id": "57880977",
        "outputId": "c55a0a98-ee3d-4885-8104-ebfe9b10b900"
      },
      "outputs": [
        {
          "name": "stdout",
          "output_type": "stream",
          "text": [
            "[*********************100%***********************]  1 of 1 completed\n"
          ]
        }
      ],
      "source": [
        "#last 5 years data with interval of 1 day\n",
        "data = yf.download(tickers=stock_symbol,period='5y',interval='1d')"
      ]
    },
    {
      "cell_type": "code",
      "execution_count": null,
      "id": "37aa4890",
      "metadata": {
        "id": "37aa4890",
        "outputId": "2f43f373-909b-4da9-df03-6e6a066e25fc"
      },
      "outputs": [
        {
          "data": {
            "text/html": [
              "<div>\n",
              "<style scoped>\n",
              "    .dataframe tbody tr th:only-of-type {\n",
              "        vertical-align: middle;\n",
              "    }\n",
              "\n",
              "    .dataframe tbody tr th {\n",
              "        vertical-align: top;\n",
              "    }\n",
              "\n",
              "    .dataframe thead th {\n",
              "        text-align: right;\n",
              "    }\n",
              "</style>\n",
              "<table border=\"1\" class=\"dataframe\">\n",
              "  <thead>\n",
              "    <tr style=\"text-align: right;\">\n",
              "      <th></th>\n",
              "      <th>Open</th>\n",
              "      <th>High</th>\n",
              "      <th>Low</th>\n",
              "      <th>Close</th>\n",
              "      <th>Adj Close</th>\n",
              "      <th>Volume</th>\n",
              "    </tr>\n",
              "    <tr>\n",
              "      <th>Date</th>\n",
              "      <th></th>\n",
              "      <th></th>\n",
              "      <th></th>\n",
              "      <th></th>\n",
              "      <th></th>\n",
              "      <th></th>\n",
              "    </tr>\n",
              "  </thead>\n",
              "  <tbody>\n",
              "    <tr>\n",
              "      <th>2016-11-18</th>\n",
              "      <td>122.386002</td>\n",
              "      <td>124.185997</td>\n",
              "      <td>119.545372</td>\n",
              "      <td>120.093811</td>\n",
              "      <td>102.120522</td>\n",
              "      <td>4762209</td>\n",
              "    </tr>\n",
              "    <tr>\n",
              "      <th>2016-11-21</th>\n",
              "      <td>120.937561</td>\n",
              "      <td>121.921936</td>\n",
              "      <td>118.125061</td>\n",
              "      <td>118.364120</td>\n",
              "      <td>100.649696</td>\n",
              "      <td>5443947</td>\n",
              "    </tr>\n",
              "    <tr>\n",
              "      <th>2016-11-22</th>\n",
              "      <td>118.968811</td>\n",
              "      <td>120.571938</td>\n",
              "      <td>114.750053</td>\n",
              "      <td>116.592247</td>\n",
              "      <td>99.143005</td>\n",
              "      <td>7004291</td>\n",
              "    </tr>\n",
              "    <tr>\n",
              "      <th>2016-11-23</th>\n",
              "      <td>117.759430</td>\n",
              "      <td>118.139122</td>\n",
              "      <td>114.890678</td>\n",
              "      <td>115.973495</td>\n",
              "      <td>98.616852</td>\n",
              "      <td>5830087</td>\n",
              "    </tr>\n",
              "    <tr>\n",
              "      <th>2016-11-24</th>\n",
              "      <td>115.017242</td>\n",
              "      <td>116.057869</td>\n",
              "      <td>112.781303</td>\n",
              "      <td>113.217247</td>\n",
              "      <td>96.273102</td>\n",
              "      <td>5638187</td>\n",
              "    </tr>\n",
              "    <tr>\n",
              "      <th>...</th>\n",
              "      <td>...</td>\n",
              "      <td>...</td>\n",
              "      <td>...</td>\n",
              "      <td>...</td>\n",
              "      <td>...</td>\n",
              "      <td>...</td>\n",
              "    </tr>\n",
              "    <tr>\n",
              "      <th>2021-11-12</th>\n",
              "      <td>150.149994</td>\n",
              "      <td>150.399994</td>\n",
              "      <td>147.500000</td>\n",
              "      <td>148.000000</td>\n",
              "      <td>148.000000</td>\n",
              "      <td>7011351</td>\n",
              "    </tr>\n",
              "    <tr>\n",
              "      <th>2021-11-15</th>\n",
              "      <td>147.850006</td>\n",
              "      <td>149.000000</td>\n",
              "      <td>146.600006</td>\n",
              "      <td>147.050003</td>\n",
              "      <td>147.050003</td>\n",
              "      <td>7233596</td>\n",
              "    </tr>\n",
              "    <tr>\n",
              "      <th>2021-11-16</th>\n",
              "      <td>147.149994</td>\n",
              "      <td>148.500000</td>\n",
              "      <td>145.000000</td>\n",
              "      <td>145.600006</td>\n",
              "      <td>145.600006</td>\n",
              "      <td>5789397</td>\n",
              "    </tr>\n",
              "    <tr>\n",
              "      <th>2021-11-17</th>\n",
              "      <td>145.350006</td>\n",
              "      <td>146.649994</td>\n",
              "      <td>144.500000</td>\n",
              "      <td>145.000000</td>\n",
              "      <td>145.000000</td>\n",
              "      <td>3877654</td>\n",
              "    </tr>\n",
              "    <tr>\n",
              "      <th>2021-11-18</th>\n",
              "      <td>145.550003</td>\n",
              "      <td>145.550003</td>\n",
              "      <td>140.350006</td>\n",
              "      <td>140.949997</td>\n",
              "      <td>140.949997</td>\n",
              "      <td>10222954</td>\n",
              "    </tr>\n",
              "  </tbody>\n",
              "</table>\n",
              "<p>1234 rows × 6 columns</p>\n",
              "</div>"
            ],
            "text/plain": [
              "                  Open        High         Low       Close   Adj Close  \\\n",
              "Date                                                                     \n",
              "2016-11-18  122.386002  124.185997  119.545372  120.093811  102.120522   \n",
              "2016-11-21  120.937561  121.921936  118.125061  118.364120  100.649696   \n",
              "2016-11-22  118.968811  120.571938  114.750053  116.592247   99.143005   \n",
              "2016-11-23  117.759430  118.139122  114.890678  115.973495   98.616852   \n",
              "2016-11-24  115.017242  116.057869  112.781303  113.217247   96.273102   \n",
              "...                ...         ...         ...         ...         ...   \n",
              "2021-11-12  150.149994  150.399994  147.500000  148.000000  148.000000   \n",
              "2021-11-15  147.850006  149.000000  146.600006  147.050003  147.050003   \n",
              "2021-11-16  147.149994  148.500000  145.000000  145.600006  145.600006   \n",
              "2021-11-17  145.350006  146.649994  144.500000  145.000000  145.000000   \n",
              "2021-11-18  145.550003  145.550003  140.350006  140.949997  140.949997   \n",
              "\n",
              "              Volume  \n",
              "Date                  \n",
              "2016-11-18   4762209  \n",
              "2016-11-21   5443947  \n",
              "2016-11-22   7004291  \n",
              "2016-11-23   5830087  \n",
              "2016-11-24   5638187  \n",
              "...              ...  \n",
              "2021-11-12   7011351  \n",
              "2021-11-15   7233596  \n",
              "2021-11-16   5789397  \n",
              "2021-11-17   3877654  \n",
              "2021-11-18  10222954  \n",
              "\n",
              "[1234 rows x 6 columns]"
            ]
          },
          "execution_count": 6,
          "metadata": {},
          "output_type": "execute_result"
        }
      ],
      "source": [
        "data"
      ]
    },
    {
      "cell_type": "code",
      "execution_count": null,
      "id": "a726f7c8",
      "metadata": {
        "id": "a726f7c8",
        "outputId": "3f8eef99-b4e8-488a-a36f-bc245850354b"
      },
      "outputs": [
        {
          "data": {
            "text/plain": [
              "1234"
            ]
          },
          "execution_count": 100,
          "metadata": {},
          "output_type": "execute_result"
        }
      ],
      "source": [
        "len(data)"
      ]
    },
    {
      "cell_type": "code",
      "execution_count": null,
      "id": "17578c1a",
      "metadata": {
        "id": "17578c1a",
        "outputId": "3b90f3e0-549c-4cea-dceb-ca1d1bd12d18"
      },
      "outputs": [
        {
          "data": {
            "text/html": [
              "<div>\n",
              "<style scoped>\n",
              "    .dataframe tbody tr th:only-of-type {\n",
              "        vertical-align: middle;\n",
              "    }\n",
              "\n",
              "    .dataframe tbody tr th {\n",
              "        vertical-align: top;\n",
              "    }\n",
              "\n",
              "    .dataframe thead th {\n",
              "        text-align: right;\n",
              "    }\n",
              "</style>\n",
              "<table border=\"1\" class=\"dataframe\">\n",
              "  <thead>\n",
              "    <tr style=\"text-align: right;\">\n",
              "      <th></th>\n",
              "      <th>Open</th>\n",
              "      <th>High</th>\n",
              "      <th>Low</th>\n",
              "      <th>Close</th>\n",
              "      <th>Adj Close</th>\n",
              "      <th>Volume</th>\n",
              "    </tr>\n",
              "    <tr>\n",
              "      <th>Date</th>\n",
              "      <th></th>\n",
              "      <th></th>\n",
              "      <th></th>\n",
              "      <th></th>\n",
              "      <th></th>\n",
              "      <th></th>\n",
              "    </tr>\n",
              "  </thead>\n",
              "  <tbody>\n",
              "    <tr>\n",
              "      <th>2021-11-04</th>\n",
              "      <td>151.300003</td>\n",
              "      <td>152.000000</td>\n",
              "      <td>151.000000</td>\n",
              "      <td>151.500000</td>\n",
              "      <td>151.500000</td>\n",
              "      <td>889957</td>\n",
              "    </tr>\n",
              "    <tr>\n",
              "      <th>2021-11-08</th>\n",
              "      <td>152.500000</td>\n",
              "      <td>153.149994</td>\n",
              "      <td>150.600006</td>\n",
              "      <td>151.899994</td>\n",
              "      <td>151.899994</td>\n",
              "      <td>18312975</td>\n",
              "    </tr>\n",
              "    <tr>\n",
              "      <th>2021-11-09</th>\n",
              "      <td>152.000000</td>\n",
              "      <td>152.699997</td>\n",
              "      <td>150.199997</td>\n",
              "      <td>150.649994</td>\n",
              "      <td>150.649994</td>\n",
              "      <td>10971902</td>\n",
              "    </tr>\n",
              "    <tr>\n",
              "      <th>2021-11-10</th>\n",
              "      <td>150.649994</td>\n",
              "      <td>153.100006</td>\n",
              "      <td>149.600006</td>\n",
              "      <td>152.100006</td>\n",
              "      <td>152.100006</td>\n",
              "      <td>18919425</td>\n",
              "    </tr>\n",
              "    <tr>\n",
              "      <th>2021-11-11</th>\n",
              "      <td>152.000000</td>\n",
              "      <td>152.699997</td>\n",
              "      <td>149.000000</td>\n",
              "      <td>149.500000</td>\n",
              "      <td>149.500000</td>\n",
              "      <td>11239191</td>\n",
              "    </tr>\n",
              "  </tbody>\n",
              "</table>\n",
              "</div>"
            ],
            "text/plain": [
              "                  Open        High         Low       Close   Adj Close  \\\n",
              "Date                                                                     \n",
              "2021-11-04  151.300003  152.000000  151.000000  151.500000  151.500000   \n",
              "2021-11-08  152.500000  153.149994  150.600006  151.899994  151.899994   \n",
              "2021-11-09  152.000000  152.699997  150.199997  150.649994  150.649994   \n",
              "2021-11-10  150.649994  153.100006  149.600006  152.100006  152.100006   \n",
              "2021-11-11  152.000000  152.699997  149.000000  149.500000  149.500000   \n",
              "\n",
              "              Volume  \n",
              "Date                  \n",
              "2021-11-04    889957  \n",
              "2021-11-08  18312975  \n",
              "2021-11-09  10971902  \n",
              "2021-11-10  18919425  \n",
              "2021-11-11  11239191  "
            ]
          },
          "execution_count": 101,
          "metadata": {},
          "output_type": "execute_result"
        }
      ],
      "source": [
        "data.tail()"
      ]
    },
    {
      "cell_type": "code",
      "execution_count": null,
      "id": "7b18bd8d",
      "metadata": {
        "id": "7b18bd8d",
        "outputId": "320094d2-78d8-4e76-afc4-b1fb6704d744"
      },
      "outputs": [
        {
          "data": {
            "text/plain": [
              "<AxesSubplot:xlabel='Date'>"
            ]
          },
          "execution_count": 102,
          "metadata": {},
          "output_type": "execute_result"
        },
        {
          "data": {
            "image/png": "[encoded data removed]",
            "text/plain": [
              "<Figure size 432x288 with 1 Axes>"
            ]
          },
          "metadata": {
            "needs_background": "light"
          },
          "output_type": "display_data"
        }
      ],
      "source": [
        "cls = data[['Close']]\n",
        "cls.plot()"
      ]
    },
    {
      "cell_type": "code",
      "execution_count": null,
      "id": "88f88519",
      "metadata": {
        "id": "88f88519",
        "outputId": "1f66a46c-ad22-44c8-9aea-3ae47a7a15ad"
      },
      "outputs": [
        {
          "data": {
            "text/plain": [
              "array([[123.25787354],\n",
              "       [122.59693909],\n",
              "       [120.45943451],\n",
              "       ...,\n",
              "       [150.6499939 ],\n",
              "       [152.1000061 ],\n",
              "       [149.5       ]])"
            ]
          },
          "execution_count": 103,
          "metadata": {},
          "output_type": "execute_result"
        }
      ],
      "source": [
        "ds = cls.values\n",
        "ds"
      ]
    },
    {
      "cell_type": "code",
      "execution_count": null,
      "id": "65216135",
      "metadata": {
        "id": "65216135",
        "outputId": "626ac23b-a0a0-4e67-c015-e5b347fde689"
      },
      "outputs": [
        {
          "data": {
            "text/plain": [
              "[<matplotlib.lines.Line2D at 0x2a3988c2c10>]"
            ]
          },
          "execution_count": 104,
          "metadata": {},
          "output_type": "execute_result"
        },
        {
          "data": {
            "image/png": "[encoded data removed]",
            "text/plain": [
              "<Figure size 432x288 with 1 Axes>"
            ]
          },
          "metadata": {
            "needs_background": "light"
          },
          "output_type": "display_data"
        }
      ],
      "source": [
        "plt.plot(ds)"
      ]
    },
    {
      "cell_type": "code",
      "execution_count": null,
      "id": "8499858f",
      "metadata": {
        "id": "8499858f"
      },
      "outputs": [],
      "source": [
        "from sklearn.preprocessing import MinMaxScaler"
      ]
    },
    {
      "cell_type": "code",
      "execution_count": null,
      "id": "9988e51f",
      "metadata": {
        "id": "9988e51f"
      },
      "outputs": [],
      "source": [
        "#Using MinMaxScaler for normalizing data between 0 & 1\n",
        "normalizer = MinMaxScaler(feature_range=(0,1))\n",
        "ds_scaled = normalizer.fit_transform(np.array(ds).reshape(-1,1))"
      ]
    },
    {
      "cell_type": "code",
      "execution_count": null,
      "id": "457ce874",
      "metadata": {
        "id": "457ce874",
        "outputId": "44b4d0df-c781-430d-8cf0-2db588d53a3e"
      },
      "outputs": [
        {
          "data": {
            "text/plain": [
              "(1234, 1234)"
            ]
          },
          "execution_count": 107,
          "metadata": {},
          "output_type": "execute_result"
        }
      ],
      "source": [
        "len(ds_scaled), len(ds)"
      ]
    },
    {
      "cell_type": "code",
      "execution_count": null,
      "id": "f47c14aa",
      "metadata": {
        "id": "f47c14aa"
      },
      "outputs": [],
      "source": [
        "#Defining test and train data sizes\n",
        "train_size = int(len(ds_scaled)*0.70)\n",
        "test_size = len(ds_scaled) - train_size"
      ]
    },
    {
      "cell_type": "code",
      "execution_count": null,
      "id": "597b4b7a",
      "metadata": {
        "id": "597b4b7a",
        "outputId": "b20fc2cf-93a5-49e5-9499-1b036807b4cf"
      },
      "outputs": [
        {
          "data": {
            "text/plain": [
              "(863, 371)"
            ]
          },
          "execution_count": 109,
          "metadata": {},
          "output_type": "execute_result"
        }
      ],
      "source": [
        "train_size,test_size"
      ]
    },
    {
      "cell_type": "code",
      "execution_count": null,
      "id": "84ae128e",
      "metadata": {
        "id": "84ae128e"
      },
      "outputs": [],
      "source": [
        "#Splitting data between train and test\n",
        "ds_train, ds_test = ds_scaled[0:train_size,:], ds_scaled[train_size:len(ds_scaled),:1]"
      ]
    },
    {
      "cell_type": "code",
      "execution_count": null,
      "id": "223d79bd",
      "metadata": {
        "id": "223d79bd",
        "outputId": "baa56bff-6167-464d-d6c0-0b3be5590832"
      },
      "outputs": [
        {
          "data": {
            "text/plain": [
              "(863, 371)"
            ]
          },
          "execution_count": 111,
          "metadata": {},
          "output_type": "execute_result"
        }
      ],
      "source": [
        "len(ds_train),len(ds_test)"
      ]
    },
    {
      "cell_type": "code",
      "execution_count": null,
      "id": "d24bef49",
      "metadata": {
        "id": "d24bef49"
      },
      "outputs": [],
      "source": [
        "#creating dataset in time series for LSTM model \n",
        "#X[100,120,140,160,180] : Y[200]\n",
        "def create_ds(dataset,step):\n",
        "    Xtrain, Ytrain = [], []\n",
        "    for i in range(len(dataset)-step-1):\n",
        "        a = dataset[i:(i+step), 0]\n",
        "        Xtrain.append(a)\n",
        "        Ytrain.append(dataset[i + step, 0])\n",
        "    return np.array(Xtrain), np.array(Ytrain)"
      ]
    },
    {
      "cell_type": "code",
      "execution_count": null,
      "id": "95af86a3",
      "metadata": {
        "id": "95af86a3"
      },
      "outputs": [],
      "source": [
        "#Taking 100 days price as one record for training\n",
        "time_stamp = 100\n",
        "X_train, y_train = create_ds(ds_train,time_stamp)\n",
        "X_test, y_test = create_ds(ds_test,time_stamp)"
      ]
    },
    {
      "cell_type": "code",
      "execution_count": null,
      "id": "ae3c0477",
      "metadata": {
        "id": "ae3c0477",
        "outputId": "f753fcb0-b561-498f-9f80-5446feb7fe75"
      },
      "outputs": [
        {
          "data": {
            "text/plain": [
              "((762, 100), (762,))"
            ]
          },
          "execution_count": 114,
          "metadata": {},
          "output_type": "execute_result"
        }
      ],
      "source": [
        "X_train.shape,y_train.shape"
      ]
    },
    {
      "cell_type": "code",
      "execution_count": null,
      "id": "08574e65",
      "metadata": {
        "id": "08574e65",
        "outputId": "9bf559d0-2315-48ed-f4f8-c6fd859c94b2"
      },
      "outputs": [
        {
          "data": {
            "text/plain": [
              "((270, 100), (270,))"
            ]
          },
          "execution_count": 115,
          "metadata": {},
          "output_type": "execute_result"
        }
      ],
      "source": [
        "X_test.shape, y_test.shape"
      ]
    },
    {
      "cell_type": "code",
      "execution_count": null,
      "id": "da5b91cb",
      "metadata": {
        "id": "da5b91cb"
      },
      "outputs": [],
      "source": [
        "#Reshaping data to fit into LSTM model\n",
        "X_train = X_train.reshape(X_train.shape[0],X_train.shape[1] , 1)\n",
        "X_test = X_test.reshape(X_test.shape[0],X_test.shape[1] , 1)"
      ]
    },
    {
      "cell_type": "code",
      "execution_count": null,
      "id": "eb2d76b6",
      "metadata": {
        "id": "eb2d76b6"
      },
      "outputs": [],
      "source": [
        "from keras.models import Sequential\n",
        "from keras.layers import Dense, LSTM"
      ]
    },
    {
      "cell_type": "code",
      "execution_count": null,
      "id": "753d1e99",
      "metadata": {
        "id": "753d1e99",
        "outputId": "d3b194b2-b2c4-456c-f470-58e40c3defab"
      },
      "outputs": [
        {
          "name": "stdout",
          "output_type": "stream",
          "text": [
            "Model: \"sequential_4\"\n",
            "_________________________________________________________________\n",
            "Layer (type)                 Output Shape              Param #   \n",
            "=================================================================\n",
            "lstm_12 (LSTM)               (None, 100, 50)           10400     \n",
            "_________________________________________________________________\n",
            "lstm_13 (LSTM)               (None, 100, 50)           20200     \n",
            "_________________________________________________________________\n",
            "lstm_14 (LSTM)               (None, 50)                20200     \n",
            "_________________________________________________________________\n",
            "dense_4 (Dense)              (None, 1)                 51        \n",
            "=================================================================\n",
            "Total params: 50,851\n",
            "Trainable params: 50,851\n",
            "Non-trainable params: 0\n",
            "_________________________________________________________________\n"
          ]
        }
      ],
      "source": [
        "#Creating LSTM model using keras\n",
        "model = Sequential()\n",
        "model.add(LSTM(units=50,return_sequences=True,input_shape=(X_train.shape[1],1)))\n",
        "model.add(LSTM(units=50,return_sequences=True))\n",
        "model.add(LSTM(units=50))\n",
        "model.add(Dense(units=1,activation='linear'))\n",
        "model.summary()"
      ]
    },
    {
      "cell_type": "code",
      "execution_count": null,
      "id": "c11f543c",
      "metadata": {
        "scrolled": true,
        "id": "c11f543c",
        "outputId": "5a3cdc09-19a2-4adb-9e2a-e2e00683f34f"
      },
      "outputs": [
        {
          "name": "stdout",
          "output_type": "stream",
          "text": [
            "Epoch 1/100\n",
            "12/12 [==============================] - 7s 172ms/step - loss: 0.1403 - accuracy: 0.0013\n",
            "Epoch 2/100\n",
            "12/12 [==============================] - 2s 181ms/step - loss: 0.0189 - accuracy: 0.0026\n",
            "Epoch 3/100\n",
            "12/12 [==============================] - 2s 157ms/step - loss: 0.0110 - accuracy: 0.0026\n",
            "Epoch 4/100\n",
            "12/12 [==============================] - 2s 151ms/step - loss: 0.0071 - accuracy: 0.0026\n",
            "Epoch 5/100\n",
            "12/12 [==============================] - 2s 142ms/step - loss: 0.0056 - accuracy: 0.0026\n",
            "Epoch 6/100\n",
            "12/12 [==============================] - 2s 158ms/step - loss: 0.0046 - accuracy: 0.0026\n",
            "Epoch 7/100\n",
            "12/12 [==============================] - 2s 167ms/step - loss: 0.0039 - accuracy: 0.0026\n",
            "Epoch 8/100\n",
            "12/12 [==============================] - 2s 175ms/step - loss: 0.0036 - accuracy: 0.0026\n",
            "Epoch 9/100\n",
            "12/12 [==============================] - 3s 198ms/step - loss: 0.0035 - accuracy: 0.0026\n",
            "Epoch 10/100\n",
            "12/12 [==============================] - 2s 201ms/step - loss: 0.0035 - accuracy: 0.0026\n",
            "Epoch 11/100\n",
            "12/12 [==============================] - 3s 229ms/step - loss: 0.0034 - accuracy: 0.0026\n",
            "Epoch 12/100\n",
            "12/12 [==============================] - 2s 153ms/step - loss: 0.0033 - accuracy: 0.0026\n",
            "Epoch 13/100\n",
            "12/12 [==============================] - 2s 189ms/step - loss: 0.0033 - accuracy: 0.0026\n",
            "Epoch 14/100\n",
            "12/12 [==============================] - 2s 162ms/step - loss: 0.0032 - accuracy: 0.0026\n",
            "Epoch 15/100\n",
            "12/12 [==============================] - 2s 193ms/step - loss: 0.0031 - accuracy: 0.0026\n",
            "Epoch 16/100\n",
            "12/12 [==============================] - 2s 158ms/step - loss: 0.0031 - accuracy: 0.0026\n",
            "Epoch 17/100\n",
            "12/12 [==============================] - 2s 188ms/step - loss: 0.0030 - accuracy: 0.0026\n",
            "Epoch 18/100\n",
            "12/12 [==============================] - 2s 157ms/step - loss: 0.0030 - accuracy: 0.0026\n",
            "Epoch 19/100\n",
            "12/12 [==============================] - 2s 199ms/step - loss: 0.0030 - accuracy: 0.0026\n",
            "Epoch 20/100\n",
            "12/12 [==============================] - 2s 158ms/step - loss: 0.0030 - accuracy: 0.0026\n",
            "Epoch 21/100\n",
            "12/12 [==============================] - 2s 161ms/step - loss: 0.0029 - accuracy: 0.0026\n",
            "Epoch 22/100\n",
            "12/12 [==============================] - 2s 170ms/step - loss: 0.0029 - accuracy: 0.0026\n",
            "Epoch 23/100\n",
            "12/12 [==============================] - 2s 153ms/step - loss: 0.0028 - accuracy: 0.0026\n",
            "Epoch 24/100\n",
            "12/12 [==============================] - 2s 145ms/step - loss: 0.0027 - accuracy: 0.0026\n",
            "Epoch 25/100\n",
            "12/12 [==============================] - 2s 158ms/step - loss: 0.0028 - accuracy: 0.0026\n",
            "Epoch 26/100\n",
            "12/12 [==============================] - 2s 159ms/step - loss: 0.0027 - accuracy: 0.0026\n",
            "Epoch 27/100\n",
            "12/12 [==============================] - 2s 142ms/step - loss: 0.0028 - accuracy: 0.0026\n",
            "Epoch 28/100\n",
            "12/12 [==============================] - 2s 175ms/step - loss: 0.0028 - accuracy: 0.0026\n",
            "Epoch 29/100\n",
            "12/12 [==============================] - 2s 159ms/step - loss: 0.0027 - accuracy: 0.0026\n",
            "Epoch 30/100\n",
            "12/12 [==============================] - 2s 144ms/step - loss: 0.0029 - accuracy: 0.0026\n",
            "Epoch 31/100\n",
            "12/12 [==============================] - 2s 153ms/step - loss: 0.0031 - accuracy: 0.0026\n",
            "Epoch 32/100\n",
            "12/12 [==============================] - 2s 149ms/step - loss: 0.0030 - accuracy: 0.0026\n",
            "Epoch 33/100\n",
            "12/12 [==============================] - 2s 140ms/step - loss: 0.0028 - accuracy: 0.0026\n",
            "Epoch 34/100\n",
            "12/12 [==============================] - 2s 153ms/step - loss: 0.0025 - accuracy: 0.0026\n",
            "Epoch 35/100\n",
            "12/12 [==============================] - 2s 149ms/step - loss: 0.0027 - accuracy: 0.0026\n",
            "Epoch 36/100\n",
            "12/12 [==============================] - 2s 144ms/step - loss: 0.0026 - accuracy: 0.0026\n",
            "Epoch 37/100\n",
            "12/12 [==============================] - 2s 159ms/step - loss: 0.0025 - accuracy: 0.0026\n",
            "Epoch 38/100\n",
            "12/12 [==============================] - 2s 148ms/step - loss: 0.0025 - accuracy: 0.0026\n",
            "Epoch 39/100\n",
            "12/12 [==============================] - 2s 143ms/step - loss: 0.0025 - accuracy: 0.0026\n",
            "Epoch 40/100\n",
            "12/12 [==============================] - 2s 165ms/step - loss: 0.0025 - accuracy: 0.0026\n",
            "Epoch 41/100\n",
            "12/12 [==============================] - 2s 159ms/step - loss: 0.0026 - accuracy: 0.0026\n",
            "Epoch 42/100\n",
            "12/12 [==============================] - 2s 144ms/step - loss: 0.0023 - accuracy: 0.0026\n",
            "Epoch 43/100\n",
            "12/12 [==============================] - 2s 153ms/step - loss: 0.0023 - accuracy: 0.0026\n",
            "Epoch 44/100\n",
            "12/12 [==============================] - 2s 148ms/step - loss: 0.0023 - accuracy: 0.0026\n",
            "Epoch 45/100\n",
            "12/12 [==============================] - 2s 145ms/step - loss: 0.0023 - accuracy: 0.0026\n",
            "Epoch 46/100\n",
            "12/12 [==============================] - 2s 153ms/step - loss: 0.0023 - accuracy: 0.0026\n",
            "Epoch 47/100\n",
            "12/12 [==============================] - 2s 155ms/step - loss: 0.0024 - accuracy: 0.0026\n",
            "Epoch 48/100\n",
            "12/12 [==============================] - 2s 146ms/step - loss: 0.0023 - accuracy: 0.0026\n",
            "Epoch 49/100\n",
            "12/12 [==============================] - 2s 152ms/step - loss: 0.0022 - accuracy: 0.0026\n",
            "Epoch 50/100\n",
            "12/12 [==============================] - 2s 150ms/step - loss: 0.0023 - accuracy: 0.0026\n",
            "Epoch 51/100\n",
            "12/12 [==============================] - 2s 146ms/step - loss: 0.0024 - accuracy: 0.0026\n",
            "Epoch 52/100\n",
            "12/12 [==============================] - 2s 153ms/step - loss: 0.0021 - accuracy: 0.0026\n",
            "Epoch 53/100\n",
            "12/12 [==============================] - 2s 152ms/step - loss: 0.0021 - accuracy: 0.0026\n",
            "Epoch 54/100\n",
            "12/12 [==============================] - 2s 144ms/step - loss: 0.0021 - accuracy: 0.0026\n",
            "Epoch 55/100\n",
            "12/12 [==============================] - 2s 152ms/step - loss: 0.0020 - accuracy: 0.0026\n",
            "Epoch 56/100\n",
            "12/12 [==============================] - 2s 151ms/step - loss: 0.0021 - accuracy: 0.0026\n",
            "Epoch 57/100\n",
            "12/12 [==============================] - 2s 143ms/step - loss: 0.0020 - accuracy: 0.0026\n",
            "Epoch 58/100\n",
            "12/12 [==============================] - 2s 154ms/step - loss: 0.0020 - accuracy: 0.0026\n",
            "Epoch 59/100\n",
            "12/12 [==============================] - 2s 157ms/step - loss: 0.0020 - accuracy: 0.0026\n",
            "Epoch 60/100\n",
            "12/12 [==============================] - 2s 143ms/step - loss: 0.0020 - accuracy: 0.0026\n",
            "Epoch 61/100\n",
            "12/12 [==============================] - 2s 152ms/step - loss: 0.0024 - accuracy: 0.0026\n",
            "Epoch 62/100\n",
            "12/12 [==============================] - 2s 153ms/step - loss: 0.0020 - accuracy: 0.0026\n",
            "Epoch 63/100\n",
            "12/12 [==============================] - 2s 146ms/step - loss: 0.0024 - accuracy: 0.0026\n",
            "Epoch 64/100\n",
            "12/12 [==============================] - 2s 153ms/step - loss: 0.0026 - accuracy: 0.0026\n",
            "Epoch 65/100\n",
            "12/12 [==============================] - 2s 152ms/step - loss: 0.0023 - accuracy: 0.0026\n",
            "Epoch 66/100\n",
            "12/12 [==============================] - 2s 143ms/step - loss: 0.0019 - accuracy: 0.0026\n",
            "Epoch 67/100\n",
            "12/12 [==============================] - 2s 151ms/step - loss: 0.0019 - accuracy: 0.0026\n",
            "Epoch 68/100\n",
            "12/12 [==============================] - 2s 160ms/step - loss: 0.0018 - accuracy: 0.0026\n",
            "Epoch 69/100\n",
            "12/12 [==============================] - 2s 145ms/step - loss: 0.0018 - accuracy: 0.0026\n",
            "Epoch 70/100\n",
            "12/12 [==============================] - 2s 149ms/step - loss: 0.0019 - accuracy: 0.0026\n",
            "Epoch 71/100\n",
            "12/12 [==============================] - 2s 152ms/step - loss: 0.0019 - accuracy: 0.0026\n",
            "Epoch 72/100\n",
            "12/12 [==============================] - 2s 146ms/step - loss: 0.0018 - accuracy: 0.0026\n",
            "Epoch 73/100\n",
            "12/12 [==============================] - 2s 151ms/step - loss: 0.0023 - accuracy: 0.0026\n",
            "Epoch 74/100\n",
            "12/12 [==============================] - 2s 157ms/step - loss: 0.0019 - accuracy: 0.0026\n",
            "Epoch 75/100\n",
            "12/12 [==============================] - 2s 144ms/step - loss: 0.0017 - accuracy: 0.0026\n",
            "Epoch 76/100\n",
            "12/12 [==============================] - 2s 150ms/step - loss: 0.0018 - accuracy: 0.0026\n",
            "Epoch 77/100\n",
            "12/12 [==============================] - 2s 161ms/step - loss: 0.0018 - accuracy: 0.0026\n",
            "Epoch 78/100\n",
            "12/12 [==============================] - 2s 148ms/step - loss: 0.0017 - accuracy: 0.0026\n",
            "Epoch 79/100\n",
            "12/12 [==============================] - 2s 151ms/step - loss: 0.0017 - accuracy: 0.0026\n",
            "Epoch 80/100\n",
            "12/12 [==============================] - 2s 156ms/step - loss: 0.0017 - accuracy: 0.0026\n",
            "Epoch 81/100\n",
            "12/12 [==============================] - 2s 146ms/step - loss: 0.0016 - accuracy: 0.0026\n",
            "Epoch 82/100\n",
            "12/12 [==============================] - 2s 156ms/step - loss: 0.0016 - accuracy: 0.0026\n",
            "Epoch 83/100\n",
            "12/12 [==============================] - 2s 155ms/step - loss: 0.0016 - accuracy: 0.0026\n",
            "Epoch 84/100\n",
            "12/12 [==============================] - 2s 144ms/step - loss: 0.0016 - accuracy: 0.0026\n",
            "Epoch 85/100\n",
            "12/12 [==============================] - 2s 152ms/step - loss: 0.0016 - accuracy: 0.0026\n",
            "Epoch 86/100\n",
            "12/12 [==============================] - 2s 157ms/step - loss: 0.0015 - accuracy: 0.0026\n",
            "Epoch 87/100\n",
            "12/12 [==============================] - 2s 149ms/step - loss: 0.0017 - accuracy: 0.0026\n",
            "Epoch 88/100\n",
            "12/12 [==============================] - 2s 151ms/step - loss: 0.0016 - accuracy: 0.0026\n",
            "Epoch 89/100\n",
            "12/12 [==============================] - 2s 154ms/step - loss: 0.0016 - accuracy: 0.0026\n",
            "Epoch 90/100\n",
            "12/12 [==============================] - 2s 148ms/step - loss: 0.0016 - accuracy: 0.0026\n",
            "Epoch 91/100\n",
            "12/12 [==============================] - 2s 155ms/step - loss: 0.0015 - accuracy: 0.0026\n",
            "Epoch 92/100\n",
            "12/12 [==============================] - 2s 165ms/step - loss: 0.0016 - accuracy: 0.0026\n",
            "Epoch 93/100\n",
            "12/12 [==============================] - 2s 157ms/step - loss: 0.0016 - accuracy: 0.0026\n",
            "Epoch 94/100\n",
            "12/12 [==============================] - 2s 161ms/step - loss: 0.0015 - accuracy: 0.0026\n",
            "Epoch 95/100\n",
            "12/12 [==============================] - 2s 155ms/step - loss: 0.0014 - accuracy: 0.0026\n",
            "Epoch 96/100\n",
            "12/12 [==============================] - 2s 145ms/step - loss: 0.0015 - accuracy: 0.0026\n",
            "Epoch 97/100\n",
            "12/12 [==============================] - 2s 157ms/step - loss: 0.0015 - accuracy: 0.0026\n",
            "Epoch 98/100\n",
            "12/12 [==============================] - 2s 156ms/step - loss: 0.0015 - accuracy: 0.0026\n",
            "Epoch 99/100\n",
            "12/12 [==============================] - 2s 151ms/step - loss: 0.0014 - accuracy: 0.0026\n",
            "Epoch 100/100\n",
            "12/12 [==============================] - 2s 161ms/step - loss: 0.0013 - accuracy: 0.0026\n"
          ]
        },
        {
          "data": {
            "text/plain": [
              "<keras.callbacks.History at 0x2a3a47e17f0>"
            ]
          },
          "execution_count": 143,
          "metadata": {},
          "output_type": "execute_result"
        }
      ],
      "source": [
        "#Training model with adam optimizer and mean squared error loss function\n",
        "model.compile(loss='mean_squared_error',optimizer='adam',metrics = ['accuracy'])\n",
        "model.fit(X_train,y_train,epochs=100,batch_size=64)"
      ]
    },
    {
      "cell_type": "code",
      "execution_count": null,
      "id": "4ef9b8da",
      "metadata": {
        "id": "4ef9b8da"
      },
      "outputs": [],
      "source": [
        "model.save('LSTM_modelGAIL4.h5')\n"
      ]
    },
    {
      "cell_type": "code",
      "execution_count": null,
      "id": "edc0956b",
      "metadata": {
        "id": "edc0956b",
        "outputId": "b8b6c563-eba3-477f-cd16-9a361a658104"
      },
      "outputs": [
        {
          "data": {
            "text/plain": [
              "[<matplotlib.lines.Line2D at 0x2a3aa076f70>]"
            ]
          },
          "execution_count": 144,
          "metadata": {},
          "output_type": "execute_result"
        },
        {
          "data": {
            "image/png": "[encoded data removed]",
            "text/plain": [
              "<Figure size 432x288 with 1 Axes>"
            ]
          },
          "metadata": {
            "needs_background": "light"
          },
          "output_type": "display_data"
        }
      ],
      "source": [
        "#PLotting loss, it shows that loss has decreased significantly and model trained well\n",
        "loss = model.history.history['loss']\n",
        "plt.plot(loss)"
      ]
    },
    {
      "cell_type": "code",
      "execution_count": null,
      "id": "56ae48dc",
      "metadata": {
        "id": "56ae48dc",
        "outputId": "1060517f-1a8b-4ff7-ea37-1b6f60499ba0"
      },
      "outputs": [
        {
          "name": "stdout",
          "output_type": "stream",
          "text": [
            "9/9 [==============================] - 1s 30ms/step - loss: 0.0014 - accuracy: 0.0000e+00\n"
          ]
        },
        {
          "data": {
            "text/plain": [
              "[0.0013759403955191374, 0.0]"
            ]
          },
          "execution_count": 145,
          "metadata": {},
          "output_type": "execute_result"
        }
      ],
      "source": [
        "scores = model.evaluate(X_test,y_test)\n",
        "scores"
      ]
    },
    {
      "cell_type": "code",
      "execution_count": null,
      "id": "eff95354",
      "metadata": {
        "id": "eff95354"
      },
      "outputs": [],
      "source": [
        "\n",
        "#Predicitng on train and test data\n",
        "train_predict = model.predict(X_train)\n",
        "test_predict = model.predict(X_test)\n"
      ]
    },
    {
      "cell_type": "code",
      "execution_count": null,
      "id": "7c2d76bb",
      "metadata": {
        "id": "7c2d76bb",
        "outputId": "b9965322-20da-4503-c54d-bc008e6c0afe"
      },
      "outputs": [
        {
          "data": {
            "text/plain": [
              "155.34098694384028"
            ]
          },
          "execution_count": 147,
          "metadata": {},
          "output_type": "execute_result"
        }
      ],
      "source": [
        "#Inverse transform to get actual value\n",
        "train_predict = normalizer.inverse_transform(train_predict)\n",
        "test_predict = normalizer.inverse_transform(test_predict)\n",
        "import math\n",
        "from sklearn.metrics import mean_squared_error\n",
        "math.sqrt(mean_squared_error(y_train,train_predict))"
      ]
    },
    {
      "cell_type": "code",
      "execution_count": null,
      "id": "9790e810",
      "metadata": {
        "id": "9790e810",
        "outputId": "bf287d69-c53d-44c3-cd22-c125edae2f44"
      },
      "outputs": [
        {
          "data": {
            "image/png": "[encoded data removed]",
            "text/plain": [
              "<Figure size 432x288 with 1 Axes>"
            ]
          },
          "metadata": {
            "needs_background": "light"
          },
          "output_type": "display_data"
        }
      ],
      "source": [
        "### Plotting \n",
        "# shift train predictions for plotting\n",
        "look_back=100\n",
        "trainPredictPlot = np.empty_like(ds_scaled)\n",
        "trainPredictPlot[:, :] = np.nan\n",
        "trainPredictPlot[look_back:len(train_predict)+look_back, :] = train_predict\n",
        "# shift test predictions for plotting\n",
        "testPredictPlot = np.empty_like(ds_scaled)\n",
        "testPredictPlot[:, :] = np.nan\n",
        "testPredictPlot[len(train_predict)+(look_back*2)+1:len(ds_scaled)-1, :] = test_predict\n",
        "# plot baseline and predictions\n",
        "df2\n",
        "plt.plot(normalizer.inverse_transform(ds_scaled))\n",
        "plt.plot(trainPredictPlot)\n",
        "plt.plot(testPredictPlot)\n",
        "plt.show()"
      ]
    },
    {
      "cell_type": "code",
      "execution_count": null,
      "id": "e3cf442c",
      "metadata": {
        "id": "e3cf442c",
        "outputId": "21a5dee3-b020-4d9a-80db-d1d4e1b7b6da"
      },
      "outputs": [
        {
          "data": {
            "text/plain": [
              "array([[         nan],\n",
              "       [         nan],\n",
              "       [         nan],\n",
              "       ...,\n",
              "       [151.79946899],\n",
              "       [152.05555725],\n",
              "       [         nan]])"
            ]
          },
          "execution_count": 157,
          "metadata": {},
          "output_type": "execute_result"
        }
      ],
      "source": [
        "type(trainPredictPlot)\n",
        "trainPredictPlot\n",
        "testPredictPlot"
      ]
    },
    {
      "cell_type": "code",
      "execution_count": null,
      "id": "6ca469c1",
      "metadata": {
        "id": "6ca469c1",
        "outputId": "374fc829-8bcc-468b-d028-dfeed889dd9d"
      },
      "outputs": [
        {
          "data": {
            "image/png": "[encoded data removed]",
            "text/plain": [
              "<Figure size 432x288 with 1 Axes>"
            ]
          },
          "metadata": {
            "needs_background": "light"
          },
          "output_type": "display_data"
        }
      ],
      "source": [
        "joined = np.concatenate((trainPredictPlot,testPredictPlot),axis = 1)\n",
        "joined\n",
        "plt.plot(normalizer.inverse_transform(ds_scaled))\n",
        "plt.plot(joined)\n",
        "plt.show()"
      ]
    },
    {
      "cell_type": "code",
      "execution_count": null,
      "id": "0ad20d0a",
      "metadata": {
        "id": "0ad20d0a"
      },
      "outputs": [],
      "source": []
    },
    {
      "cell_type": "code",
      "execution_count": null,
      "id": "b97704b3",
      "metadata": {
        "id": "b97704b3"
      },
      "outputs": [],
      "source": [
        "test = np.vstack((train_predict,test_predict))"
      ]
    },
    {
      "cell_type": "code",
      "execution_count": null,
      "id": "af135a67",
      "metadata": {
        "id": "af135a67",
        "outputId": "b1379058-1d8b-4a78-bd99-d86ca0cd54cb"
      },
      "outputs": [
        {
          "data": {
            "text/plain": [
              "[<matplotlib.lines.Line2D at 0x2a3a1577190>]"
            ]
          },
          "execution_count": 133,
          "metadata": {},
          "output_type": "execute_result"
        },
        {
          "data": {
            "image/png": "[encoded data removed]",
            "text/plain": [
              "<Figure size 432x288 with 1 Axes>"
            ]
          },
          "metadata": {
            "needs_background": "light"
          },
          "output_type": "display_data"
        }
      ],
      "source": [
        "#Combining the predited data to create uniform data visualization\n",
        "plt.plot(normalizer.inverse_transform(ds_scaled))\n",
        "plt.plot(test)\n"
      ]
    },
    {
      "cell_type": "code",
      "execution_count": null,
      "id": "20826ae0",
      "metadata": {
        "id": "20826ae0",
        "outputId": "152c13aa-8733-4f70-a02f-eb48d009364c"
      },
      "outputs": [
        {
          "data": {
            "text/plain": [
              "378"
            ]
          },
          "execution_count": 93,
          "metadata": {},
          "output_type": "execute_result"
        }
      ],
      "source": [
        "len(ds_test)"
      ]
    },
    {
      "cell_type": "code",
      "execution_count": null,
      "id": "cce112f4",
      "metadata": {
        "id": "cce112f4"
      },
      "outputs": [],
      "source": [
        "#Getting the last 100 days records\n",
        "fut_inp = ds_test[(len(ds_test)-100):]"
      ]
    },
    {
      "cell_type": "code",
      "execution_count": null,
      "id": "8977280c",
      "metadata": {
        "id": "8977280c"
      },
      "outputs": [],
      "source": [
        "fut_inp = fut_inp.reshape(1,-1)"
      ]
    },
    {
      "cell_type": "code",
      "execution_count": null,
      "id": "74ec3d48",
      "metadata": {
        "id": "74ec3d48"
      },
      "outputs": [],
      "source": [
        "tmp_inp = list(fut_inp)"
      ]
    },
    {
      "cell_type": "code",
      "execution_count": null,
      "id": "3848acfb",
      "metadata": {
        "id": "3848acfb",
        "outputId": "f9029648-36db-4fd4-a490-b1ee6b8829e3"
      },
      "outputs": [
        {
          "data": {
            "text/plain": [
              "(1, 100)"
            ]
          },
          "execution_count": 357,
          "metadata": {},
          "output_type": "execute_result"
        }
      ],
      "source": [
        "fut_inp.shape"
      ]
    },
    {
      "cell_type": "code",
      "execution_count": null,
      "id": "310b0b88",
      "metadata": {
        "id": "310b0b88"
      },
      "outputs": [],
      "source": [
        "#Creating list of the last 100 data\n",
        "tmp_inp = tmp_inp[0].tolist()"
      ]
    },
    {
      "cell_type": "code",
      "execution_count": null,
      "id": "7076ca8a",
      "metadata": {
        "id": "7076ca8a",
        "outputId": "b7ffceea-6b5d-4c1c-bcad-41bffa9fe28d"
      },
      "outputs": [
        {
          "name": "stdout",
          "output_type": "stream",
          "text": [
            "[[0.6402508616447449], [0.6424347758293152], [0.6438952088356018], [0.644714891910553], [0.6449996829032898], [0.6448692083358765], [0.6444482803344727], [0.6438576579093933], [0.6432059407234192], [0.6425830125808716], [0.6420576572418213], [0.6416763067245483], [0.6414638161659241], [0.6414284110069275], [0.6415628790855408], [0.6418498754501343], [0.6422654986381531], [0.642782986164093], [0.6433749198913574], [0.6440156102180481], [0.6446839570999146], [0.6453618407249451], [0.6460363864898682], [0.6466993689537048], [0.6473462581634521], [0.6479755640029907], [0.6485891938209534], [0.6491897106170654], [0.6497812271118164], [0.6503683924674988], [0.6509550213813782], [0.651544988155365], [0.6521414518356323], [0.6527460813522339], [0.6533602476119995], [0.6539846062660217], [0.6546185612678528], [0.6552621126174927], [0.6559137105941772], [0.6565721035003662], [0.6572363376617432], [0.6579053401947021], [0.6585771441459656], [0.6592519879341125], [0.6599283218383789], [0.6606057286262512], [0.6612842679023743], [0.6619633436203003], [0.6626430153846741], [0.6633235812187195]]\n"
          ]
        }
      ],
      "source": [
        "#Predicting next 30 days price suing the current data\n",
        "#It will predict in sliding window manner (algorithm) with stride 1\n",
        "lst_output=[]\n",
        "n_steps=100\n",
        "i=0\n",
        "while(i<30):\n",
        "    \n",
        "    if(len(tmp_inp)>100):\n",
        "        fut_inp = np.array(tmp_inp[1:])\n",
        "        fut_inp=fut_inp.reshape(1,-1)\n",
        "        fut_inp = fut_inp.reshape((1, n_steps, 1))\n",
        "        yhat = model.predict(fut_inp, verbose=0)\n",
        "        tmp_inp.extend(yhat[0].tolist())\n",
        "        tmp_inp = tmp_inp[1:]\n",
        "        lst_output.extend(yhat.tolist())\n",
        "        i=i+1\n",
        "    else:\n",
        "        fut_inp = fut_inp.reshape((1, n_steps,1))\n",
        "        yhat = model.predict(fut_inp, verbose=0)\n",
        "        tmp_inp.extend(yhat[0].tolist())\n",
        "        lst_output.extend(yhat.tolist())\n",
        "        i=i+1\n",
        "    \n",
        "\n",
        "print(lst_output)"
      ]
    },
    {
      "cell_type": "code",
      "execution_count": null,
      "id": "116e1f3c",
      "metadata": {
        "id": "116e1f3c",
        "outputId": "51a9ec4c-a961-4461-add3-e54174ed1420"
      },
      "outputs": [
        {
          "data": {
            "text/plain": [
              "1235"
            ]
          },
          "execution_count": 360,
          "metadata": {},
          "output_type": "execute_result"
        }
      ],
      "source": [
        "len(ds_scaled)"
      ]
    },
    {
      "cell_type": "code",
      "execution_count": null,
      "id": "9e261286",
      "metadata": {
        "id": "9e261286"
      },
      "outputs": [],
      "source": [
        "#Creating a dummy plane to plot graph one after another\n",
        "plot_new=np.arange(1,101)\n",
        "plot_pred=np.arange(101,131)"
      ]
    },
    {
      "cell_type": "code",
      "execution_count": null,
      "id": "48d96e6b",
      "metadata": {
        "id": "48d96e6b",
        "outputId": "2de1b312-478e-491e-d14f-42b15205a023"
      },
      "outputs": [
        {
          "data": {
            "text/plain": [
              "[<matplotlib.lines.Line2D at 0x2c593cfa1f0>]"
            ]
          },
          "execution_count": 362,
          "metadata": {},
          "output_type": "execute_result"
        },
        {
          "data": {
            "image/png": "[encoded data removed]",
            "text/plain": [
              "<Figure size 432x288 with 1 Axes>"
            ]
          },
          "metadata": {
            "needs_background": "light"
          },
          "output_type": "display_data"
        }
      ],
      "source": [
        "plt.plot(plot_new, normalizer.inverse_transform(ds_scaled[len(ds_scaled)-100:]))\n",
        "plt.plot(plot_pred, normalizer.inverse_transform(lst_output))"
      ]
    },
    {
      "cell_type": "code",
      "execution_count": null,
      "id": "3f242126",
      "metadata": {
        "id": "3f242126"
      },
      "outputs": [],
      "source": [
        "ds_new = ds_scaled.tolist()"
      ]
    },
    {
      "cell_type": "code",
      "execution_count": null,
      "id": "1d7eba84",
      "metadata": {
        "id": "1d7eba84",
        "outputId": "4321defe-bf5e-4bc4-f31a-332ceb839be1"
      },
      "outputs": [
        {
          "data": {
            "text/plain": [
              "1235"
            ]
          },
          "execution_count": 285,
          "metadata": {},
          "output_type": "execute_result"
        }
      ],
      "source": [
        "len(ds_new)"
      ]
    },
    {
      "cell_type": "code",
      "execution_count": null,
      "id": "470ff514",
      "metadata": {
        "id": "470ff514",
        "outputId": "55785716-cde7-4d23-d567-6b175601ef42"
      },
      "outputs": [
        {
          "data": {
            "text/plain": [
              "[<matplotlib.lines.Line2D at 0x2c58f0fbd30>]"
            ]
          },
          "execution_count": 286,
          "metadata": {},
          "output_type": "execute_result"
        },
        {
          "data": {
            "image/png": "[encoded data removed]",
            "text/plain": [
              "<Figure size 432x288 with 1 Axes>"
            ]
          },
          "metadata": {
            "needs_background": "light"
          },
          "output_type": "display_data"
        }
      ],
      "source": [
        "#Entends helps us to fill the missing value with approx value\n",
        "ds_new.extend(lst_output)\n",
        "plt.plot(ds_new[1200:])"
      ]
    },
    {
      "cell_type": "code",
      "execution_count": null,
      "id": "0164e7d8",
      "metadata": {
        "id": "0164e7d8",
        "outputId": "1e8f2462-4b8e-45fd-8cf1-267103f0de4c"
      },
      "outputs": [
        {
          "data": {
            "text/plain": [
              "1265"
            ]
          },
          "execution_count": 313,
          "metadata": {},
          "output_type": "execute_result"
        }
      ],
      "source": [
        "#Creating final data for plotting\n",
        "final_graph = normalizer.inverse_transform(ds_new).tolist()\n",
        "len(final_graph)"
      ]
    },
    {
      "cell_type": "code",
      "execution_count": null,
      "id": "cf01696f",
      "metadata": {
        "id": "cf01696f",
        "outputId": "96d8139c-2941-4840-e902-47edfc571e03"
      },
      "outputs": [
        {
          "data": {
            "text/plain": [
              "<matplotlib.legend.Legend at 0x2c58f041700>"
            ]
          },
          "execution_count": 288,
          "metadata": {},
          "output_type": "execute_result"
        },
        {
          "data": {
            "image/png": "[encoded data removed]",
            "text/plain": [
              "<Figure size 432x288 with 1 Axes>"
            ]
          },
          "metadata": {
            "needs_background": "light"
          },
          "output_type": "display_data"
        }
      ],
      "source": [
        "#Plotting final results with predicted value after 30 Days\n",
        "plt.plot(final_graph,)\n",
        "plt.ylabel(\"Price\")\n",
        "plt.xlabel(\"Time\")\n",
        "plt.title(\"{0} prediction of next month close\".format(stock_symbol))\n",
        "plt.axhline(y=final_graph[len(final_graph)-1], color = 'red', linestyle = ':', label = 'NEXT 30D: {0}'.format(round(float(*final_graph[len(final_graph)-1]),2)))\n",
        "plt.legend()"
      ]
    }
  ],
  "metadata": {
    "kernelspec": {
      "display_name": "Python 3",
      "language": "python",
      "name": "python3"
    },
    "language_info": {
      "codemirror_mode": {
        "name": "ipython",
        "version": 3
      },
      "file_extension": ".py",
      "mimetype": "text/x-python",
      "name": "python",
      "nbconvert_exporter": "python",
      "pygments_lexer": "ipython3",
      "version": "3.8.8"
    },
    "colab": {
      "provenance": []
    }
  },
  "nbformat": 4,
  "nbformat_minor": 5
}